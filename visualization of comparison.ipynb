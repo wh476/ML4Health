{
 "cells": [
  {
   "cell_type": "code",
   "execution_count": null,
   "metadata": {},
   "outputs": [],
   "source": [
    "import matplotlib.pyplot as plt\n",
    "\n",
    "# Recall scores for hate speech and neutral classes\n",
    "recall_hate_speech = {\n",
    "    \"SMOTE\": [0.35, 0.22, 0.61],  # Recall scores for logistic regression, random forest, BERTweet\n",
    "    \"ENN\": [0.64, 0.64, 0.40],\n",
    "    \"SMOTEENN\": [0.57, 0.44, 0.84]\n",
    "}\n",
    "\n",
    "recall_neutral = {\n",
    "    \"SMOTE\": [0.78, 0.77, 0.96],  # Recall scores for logistic regression, random forest, BERTweet\n",
    "    \"ENN\": [0.33, 0.33, 0.62],\n",
    "    \"SMOTEENN\": [0.89, 0.90, 0.90]\n",
    "}\n",
    "\n",
    "models = [\"Logistic Regression\", \"Random Forest\", \"BERTweet\"]\n",
    "resampling_methods = [\"SMOTE\", \"ENN\", \"SMOTEENN\"]\n",
    "\n",
    "# Plot recall scores for hate speech\n",
    "plt.figure(figsize=(10, 6))\n",
    "for i, model in enumerate(models):\n",
    "    plt.bar([x + i*0.2 for x in range(len(resampling_methods))], recall_hate_speech[resampling_methods[i]], width=0.2, label=model)\n",
    "\n",
    "plt.xlabel('Resampling Method')\n",
    "plt.ylabel('Recall')\n",
    "plt.title('Recall for Hate Speech')\n",
    "plt.xticks([0.2, 1.2, 2.2], resampling_methods)\n",
    "plt.legend()\n",
    "plt.show()\n",
    "\n",
    "# Plot recall scores for neutral\n",
    "plt.figure(figsize=(10, 6))\n",
    "for i, model in enumerate(models):\n",
    "    plt.bar([x + i*0.2 for x in range(len(resampling_methods))], recall_neutral[resampling_methods[i]], width=0.2, label=model)\n",
    "\n",
    "plt.xlabel('Resampling Method')\n",
    "plt.ylabel('Recall')\n",
    "plt.title('Recall for Neutral')\n",
    "plt.xticks([0.2, 1.2, 2.2], resampling_methods)\n",
    "plt.legend()\n",
    "plt.show()\n"
   ]
  }
 ],
 "metadata": {
  "language_info": {
   "name": "python"
  }
 },
 "nbformat": 4,
 "nbformat_minor": 2
}
