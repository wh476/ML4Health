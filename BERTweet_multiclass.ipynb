{
 "cells": [
  {
   "cell_type": "code",
   "execution_count": 1,
   "metadata": {},
   "outputs": [
    {
     "name": "stderr",
     "output_type": "stream",
     "text": [
      "/Library/Frameworks/Python.framework/Versions/3.10/lib/python3.10/site-packages/tqdm/auto.py:21: TqdmWarning: IProgress not found. Please update jupyter and ipywidgets. See https://ipywidgets.readthedocs.io/en/stable/user_install.html\n",
      "  from .autonotebook import tqdm as notebook_tqdm\n"
     ]
    }
   ],
   "source": [
    "import preprocessor\n",
    "import demoji\n",
    "import pandas as pd\n",
    "import numpy as np\n",
    "import matplotlib.pyplot as plt\n",
    "import seaborn as sns\n",
    "\n",
    "from sklearn.model_selection import train_test_split\n",
    "from sklearn.metrics import confusion_matrix, classification_report, accuracy_score\n",
    "from transformers import AutoTokenizer, AutoModelForSequenceClassification\n",
    "import torch\n",
    "from torch.utils.data import DataLoader, TensorDataset\n",
    "from tqdm import tqdm"
   ]
  },
  {
   "cell_type": "code",
   "execution_count": 2,
   "metadata": {},
   "outputs": [
    {
     "name": "stderr",
     "output_type": "stream",
     "text": [
      "Some weights of RobertaForSequenceClassification were not initialized from the model checkpoint at vinai/bertweet-base and are newly initialized: ['classifier.dense.bias', 'classifier.dense.weight', 'classifier.out_proj.bias', 'classifier.out_proj.weight']\n",
      "You should probably TRAIN this model on a down-stream task to be able to use it for predictions and inference.\n"
     ]
    }
   ],
   "source": [
    "# Load BERTweet model and tokenizer\n",
    "model_name = \"vinai/bertweet-base\"\n",
    "tokenizer = AutoTokenizer.from_pretrained(model_name)\n",
    "model = AutoModelForSequenceClassification.from_pretrained(model_name, num_labels=3)"
   ]
  },
  {
   "cell_type": "code",
   "execution_count": 3,
   "metadata": {},
   "outputs": [
    {
     "name": "stdout",
     "output_type": "stream",
     "text": [
      "Index(['label', 'tweet', 'label_category'], dtype='object')\n",
      "(24783, 3)\n",
      "   label                                              tweet  \\\n",
      "0      2  !!! rt @mayasolovely: as a woman you shouldn't...   \n",
      "1      1  !!!!! rt @mleew17: boy dats cold...tyga dwn ba...   \n",
      "2      1  !!!!!!! rt @urkindofbrand dawg!!!! rt @80sbaby...   \n",
      "3      1  !!!!!!!!! rt @c_g_anderson: @viva_based she lo...   \n",
      "4      1  !!!!!!!!!!!!! rt @shenikaroberts: the shit you...   \n",
      "5      1  !!!!!!!!!!!!!!!!!!\"@t_madison_x: the shit just...   \n",
      "6      1  !!!!!!\"@__brighterdays: i can not just sit up ...   \n",
      "7      1  !!!!“@selfiequeenbri: cause i'm tired of you b...   \n",
      "8      1  \" & you might not get ya bitch back & thats th...   \n",
      "9      1  \" @rhythmixx_ :hobbies include: fighting maria...   \n",
      "\n",
      "       label_category  \n",
      "0             Neutral  \n",
      "1  Offensive Language  \n",
      "2  Offensive Language  \n",
      "3  Offensive Language  \n",
      "4  Offensive Language  \n",
      "5  Offensive Language  \n",
      "6  Offensive Language  \n",
      "7  Offensive Language  \n",
      "8  Offensive Language  \n",
      "9  Offensive Language  \n"
     ]
    }
   ],
   "source": [
    "# Load your dataset with columns 'tweet' and 'categories'\n",
    "dataset = pd.read_csv('./dataset/cleaned_dataset.csv')\n",
    "print(dataset.columns)\n",
    "print(dataset.shape)\n",
    "print(dataset.head(10))"
   ]
  },
  {
   "cell_type": "code",
   "execution_count": 4,
   "metadata": {},
   "outputs": [
    {
     "name": "stdout",
     "output_type": "stream",
     "text": [
      "Index(['label', 'tweet', 'label_category', 'cleaned_tweet'], dtype='object')\n",
      "(24783, 4)\n"
     ]
    }
   ],
   "source": [
    "# Load and preprocess your dataset\n",
    "def preprocess_text(text):\n",
    "    # Use tweet-preprocessor to clean tweets\n",
    "    cleaned_text = preprocessor.clean(text)\n",
    "    # Remove emojis\n",
    "    cleaned_text = remove_emojis(cleaned_text)\n",
    "    return cleaned_text\n",
    "\n",
    "def remove_emojis(text):\n",
    "    return demoji.replace(text, '')\n",
    "\n",
    "# Preprocess text\n",
    "dataset['cleaned_tweet'] = dataset['tweet'].apply(preprocess_text)\n",
    "\n",
    "print(dataset.columns)\n",
    "print(dataset.shape)\n",
    "# print(dataset.head(10))"
   ]
  },
  {
   "cell_type": "code",
   "execution_count": 5,
   "metadata": {},
   "outputs": [
    {
     "name": "stdout",
     "output_type": "stream",
     "text": [
      "Training set size: 14869 (Hate Speech:  858 , Offensive Language:  11526 , Neutral:  2485 )\n",
      "Validation set size: 4957 (Hate Speech:  297 , Offensive Language:  3797 , Neutral:  863 )\n",
      "Testing set size: 4957 (Hate Speech:  275 , Offensive Language:  3867 , Neutral:  815 )\n"
     ]
    }
   ],
   "source": [
    "# Split the dataset into training and testing sets\n",
    "X_train, X_test_temp, y_train, y_test_temp = train_test_split(\n",
    "    dataset['cleaned_tweet'],  # Features\n",
    "    dataset['label'],  # Labels\n",
    "    test_size=0.4, \n",
    "    random_state=42\n",
    ")\n",
    "\n",
    "# Split the testing set into validation (50%) and testing (50%)\n",
    "X_val, X_test, y_val, y_test = train_test_split(\n",
    "    X_test_temp,\n",
    "    y_test_temp,\n",
    "    test_size=0.5,\n",
    "    random_state=42\n",
    ")\n",
    "\n",
    "# Reset the index to ensure it is consecutive\n",
    "X_train.reset_index(drop=True, inplace=True)\n",
    "y_train.reset_index(drop=True, inplace=True)\n",
    "X_val.reset_index(drop=True, inplace=True)\n",
    "y_val.reset_index(drop=True, inplace=True)\n",
    "X_test.reset_index(drop=True, inplace=True)\n",
    "y_test.reset_index(drop=True, inplace=True)\n",
    "\n",
    "# Print the sizes of each set: Training 60% / Val 20% / Testing 20% \n",
    "print(\"Training set size:\", len(X_train), \"(Hate Speech: \", sum(y_train == 0), \", Offensive Language: \", sum(y_train == 1), \", Neutral: \", sum(y_train == 2), \")\")\n",
    "print(\"Validation set size:\", len(X_val), \"(Hate Speech: \", sum(y_val == 0), \", Offensive Language: \", sum(y_val == 1), \", Neutral: \", sum(y_val == 2), \")\")\n",
    "print(\"Testing set size:\", len(X_test), \"(Hate Speech: \", sum(y_test == 0), \", Offensive Language: \", sum(y_test == 1), \", Neutral: \", sum(y_test == 2),\")\")"
   ]
  },
  {
   "cell_type": "code",
   "execution_count": 6,
   "metadata": {},
   "outputs": [
    {
     "name": "stdout",
     "output_type": "stream",
     "text": [
      "<class 'pandas.core.series.Series'> (14869,)\n",
      "<class 'pandas.core.series.Series'> (14869,)\n",
      "<class 'pandas.core.series.Series'> (4957,)\n",
      "<class 'pandas.core.series.Series'> (4957,)\n",
      "<class 'pandas.core.series.Series'> (4957,)\n",
      "<class 'pandas.core.series.Series'> (4957,)\n",
      "0                         that pussy came gift wrapped\n",
      "1    lmaoooort remember when y'all bitches were lot...\n",
      "2    : where do all the foreskins go when they circ...\n",
      "3    now we have a ebloa case in texas. if we kill ...\n",
      "4                so, about this flappy bird game then.\n",
      "5    patrick you ain't nottin but a hood nigga top ...\n",
      "6                        fuck all y'all hoes gang shit\n",
      "7    : some of yall hoes nasty yall find out yall s...\n",
      "8                                     ....so ur a fag?\n",
      "9                              rt : anxiety is a bitch\n",
      "Name: cleaned_tweet, dtype: object\n",
      "0    1\n",
      "1    1\n",
      "2    2\n",
      "3    0\n",
      "4    2\n",
      "5    1\n",
      "6    1\n",
      "7    1\n",
      "8    1\n",
      "9    1\n",
      "Name: label, dtype: int64\n"
     ]
    }
   ],
   "source": [
    "# print type for train, val, and test, also the shape\n",
    "print(type(X_train), X_train.shape)\n",
    "print(type(y_train), y_train.shape)\n",
    "print(type(X_val), X_val.shape)\n",
    "print(type(y_val), y_val.shape)\n",
    "print(type(X_test), X_test.shape)\n",
    "print(type(y_test), y_test.shape)\n",
    "print(X_train.head(10))\n",
    "print(y_train.head(10))"
   ]
  },
  {
   "cell_type": "code",
   "execution_count": 7,
   "metadata": {},
   "outputs": [
    {
     "name": "stdout",
     "output_type": "stream",
     "text": [
      "Resampled Training set size: 21512 (Hate Speech:  10805 , Offensive Language:  683 , Neutral:  10024 )\n"
     ]
    }
   ],
   "source": [
    "from sklearn.feature_extraction.text import TfidfVectorizer\n",
    "from imblearn.combine import SMOTEENN\n",
    "from imblearn.over_sampling import SMOTE\n",
    "\n",
    "# Initialize TF-IDF vectorizer\n",
    "tfidf_vectorizer = TfidfVectorizer(max_features=10000)\n",
    "\n",
    "# Fit TF-IDF vectorizer on the training data\n",
    "X_train_tfidf = tfidf_vectorizer.fit_transform(X_train)\n",
    "\n",
    "# # Define the desired number of samples for each class\n",
    "# sampling_strategy = {\n",
    "#     0: 12000,  # Desired number of samples for class 0 (Hate Speech)\n",
    "#     1: 12000,  # Desired number of samples for class 1 (Offensive Language)\n",
    "#     2: 12000   # Desired number of samples for class 2 (Neutral)\n",
    "# }\n",
    "\n",
    "# # Initialize SMOTEENN with specified parameters\n",
    "# smote_enn = SMOTEENN(sampling_strategy=sampling_strategy, smote=SMOTE(sampling_strategy='auto', k_neighbors=5), random_state=42, n_jobs=-1)\n",
    "\n",
    "# # Apply SMOTEENN to balance the dataset\n",
    "# X_train_smote_enn, y_train_resampled = smote_enn.fit_resample(X_train_tfidf, y_train)\n",
    "\n",
    "# # Apply SMOTEENN to balance the dataset\n",
    "smote_enn = SMOTEENN(random_state=42, n_jobs=-1, sampling_strategy='auto', smote=SMOTE(sampling_strategy='auto', k_neighbors=5))\n",
    "X_train_smote_enn, y_train_resampled = smote_enn.fit_resample(X_train_tfidf, y_train)\n",
    "\n",
    "# Print the sizes of resampled training set\n",
    "print(\"Resampled Training set size:\", X_train_smote_enn.shape[0], \"(Hate Speech: \", sum(y_train_resampled == 0), \", Offensive Language: \", sum(y_train_resampled == 1), \", Neutral: \", sum(y_train_resampled == 2), \")\")"
   ]
  },
  {
   "cell_type": "code",
   "execution_count": 8,
   "metadata": {},
   "outputs": [
    {
     "name": "stdout",
     "output_type": "stream",
     "text": [
      "                                               tweet  label\n",
      "0                      you your faggot hate football      0\n",
      "1  that to poor monkey bottles all around this th...      2\n",
      "2  robertson darling slavery molester pundits noi...      0\n",
      "3  time last for tom brady east era patriots the ...      2\n",
      "4  in rt is httpurl state pick wr popular recent ...      2\n",
      "5            with trash wouldn share those wave cans      2\n",
      "6  do and what for want oreos coffee like who bro...      2\n",
      "7  are for birds bad think compare all the have i...      2\n",
      "8  that on watch trash not what come im ive else ...      2\n",
      "9  the of and rt httpurl one seen ive women crow ...      0\n"
     ]
    }
   ],
   "source": [
    "# Convert TF-IDF transformed data back to text\n",
    "X_train_resampled_text = tfidf_vectorizer.inverse_transform(X_train_smote_enn)\n",
    "\n",
    "# Concatenate the tokens to form sentences\n",
    "X_train_resampled_text = [' '.join(tokens) for tokens in X_train_resampled_text]\n",
    "\n",
    "# Convert the list of tokenized sentences back into a Series\n",
    "X_train_resampled = pd.Series(X_train_resampled_text, name='X_train_resampled')\n",
    "\n",
    "# Tokenize the balanced training data using BERTweet\n",
    "tokenized_resampled_train = pd.DataFrame({'tweet': X_train_resampled, 'label': y_train_resampled})\n",
    "# shuffle the data\n",
    "tokenized_resampled_train = tokenized_resampled_train.sample(frac=1).reset_index(drop=True)\n",
    "print(tokenized_resampled_train.head(10))"
   ]
  },
  {
   "cell_type": "code",
   "execution_count": 9,
   "metadata": {},
   "outputs": [
    {
     "name": "stdout",
     "output_type": "stream",
     "text": [
      "Training set size:  21512\n",
      "0    [input_ids, token_type_ids, attention_mask]\n",
      "1    [input_ids, token_type_ids, attention_mask]\n",
      "2    [input_ids, token_type_ids, attention_mask]\n",
      "Name: X_train_resampled, dtype: object\n",
      "Validation set size:  4957\n",
      "0    [input_ids, token_type_ids, attention_mask]\n",
      "1    [input_ids, token_type_ids, attention_mask]\n",
      "2    [input_ids, token_type_ids, attention_mask]\n",
      "Name: cleaned_tweet, dtype: object\n",
      "Testing set size:  4957\n",
      "0    [input_ids, token_type_ids, attention_mask]\n",
      "1    [input_ids, token_type_ids, attention_mask]\n",
      "2    [input_ids, token_type_ids, attention_mask]\n",
      "Name: cleaned_tweet, dtype: object\n"
     ]
    }
   ],
   "source": [
    "def tokenize_data(text):\n",
    "    return tokenizer(\n",
    "        text,\n",
    "        max_length=128,\n",
    "        padding='max_length',\n",
    "        truncation=True,\n",
    "        return_tensors='pt'\n",
    "    )\n",
    "    \n",
    "# Tokenize and prepare input data for training set\n",
    "tokenized_train = X_train_resampled.apply(tokenize_data)\n",
    "print(\"Training set size: \", len(tokenized_train))\n",
    "print(tokenized_train.head(3))\n",
    "tokenized_val = X_val.apply(tokenize_data)\n",
    "print(\"Validation set size: \", len(tokenized_val))\n",
    "print(tokenized_val.head(3))\n",
    "tokenized_test = X_test.apply(tokenize_data)\n",
    "print(\"Testing set size: \", len(tokenized_test))\n",
    "print(tokenized_test.head(3))"
   ]
  },
  {
   "cell_type": "code",
   "execution_count": 10,
   "metadata": {},
   "outputs": [],
   "source": [
    "# Create DataLoader for training set\n",
    "input_ids_train = torch.cat([tokenized_train[i]['input_ids'] for i in range(len(tokenized_train))], dim=0)\n",
    "attention_masks_train = torch.cat([tokenized_train[i]['attention_mask'] for i in range(len(tokenized_train))], dim=0)\n",
    "labels_train = torch.tensor(y_train_resampled.values)\n",
    "\n",
    "dataset_train = TensorDataset(input_ids_train, attention_masks_train, labels_train)\n",
    "dataloader_train = DataLoader(dataset_train, batch_size=128, shuffle=True)\n",
    "\n",
    "# Create DataLoader for validation set\n",
    "input_ids_val = torch.cat([tokenized_val[i]['input_ids'] for i in range(len(tokenized_val))], dim=0)\n",
    "attention_masks_val = torch.cat([tokenized_val[i]['attention_mask'] for i in range(len(tokenized_val))], dim=0)\n",
    "labels_val = torch.tensor(y_val.values)\n",
    "\n",
    "dataset_val = TensorDataset(input_ids_val, attention_masks_val, labels_val)\n",
    "dataloader_val = DataLoader(dataset_val, batch_size=32, shuffle=False)\n",
    "\n",
    "# Create DataLoader for testing set\n",
    "input_ids_test = torch.cat([tokenized_test[i]['input_ids'] for i in range(len(tokenized_test))], dim=0)\n",
    "attention_masks_test = torch.cat([tokenized_test[i]['attention_mask'] for i in range(len(tokenized_test))], dim=0)\n",
    "labels_test = torch.tensor(y_test.values)\n",
    "\n",
    "# Create DataLoader for testing set\n",
    "dataset_test = TensorDataset(input_ids_test, attention_masks_test, labels_test)\n",
    "dataloader_test = DataLoader(dataset_test, batch_size=32, shuffle=False)"
   ]
  },
  {
   "cell_type": "code",
   "execution_count": 11,
   "metadata": {},
   "outputs": [],
   "source": [
    "# Set up optimizer and loss function\n",
    "optimizer = torch.optim.AdamW(model.parameters(), lr=5e-5)\n",
    "# loss_fn = torch.nn.BCEWithLogitsLoss()\n",
    "\n",
    "# Set up training parameters\n",
    "num_epochs = 5  # You can adjust this based on your requirements\n",
    "device = torch.device(\"cuda\" if torch.cuda.is_available() else \"cpu\")\n",
    "\n",
    "# Move model and data to the device\n",
    "model.to(device)\n",
    "input_ids_train, attention_masks_train, labels_train = input_ids_train.to(device), attention_masks_train.to(device), labels_train.to(device)\n",
    "input_ids_val, attention_masks_val, labels_val = input_ids_val.to(device), attention_masks_val.to(device), labels_val.to(device)\n",
    "loss_per_epoch = {'train': [], 'val': []}\n",
    "accuracy_per_epoch = {'train': [], 'val': []}"
   ]
  },
  {
   "cell_type": "code",
   "execution_count": 12,
   "metadata": {},
   "outputs": [
    {
     "name": "stderr",
     "output_type": "stream",
     "text": [
      "Training Epoch 1/5: 100%|██████████| 167/167 [1:23:40<00:00, 30.07s/it]\n"
     ]
    },
    {
     "name": "stdout",
     "output_type": "stream",
     "text": [
      "Epoch 1/5, Train Loss: 0.4104040119194699, Train Accuracy: 0.8550032762332678\n"
     ]
    },
    {
     "name": "stderr",
     "output_type": "stream",
     "text": [
      "Validation Epoch 1/5: 100%|██████████| 155/155 [03:23<00:00,  1.32s/it]\n"
     ]
    },
    {
     "name": "stdout",
     "output_type": "stream",
     "text": [
      "Epoch 1/5, Validation Loss: 1.638351599631771, Validation Accuracy: 0.298971151906395\n"
     ]
    },
    {
     "name": "stderr",
     "output_type": "stream",
     "text": [
      "Training Epoch 2/5: 100%|██████████| 167/167 [1:18:46<00:00, 28.30s/it]\n"
     ]
    },
    {
     "name": "stdout",
     "output_type": "stream",
     "text": [
      "Epoch 2/5, Train Loss: 0.11545347150214418, Train Accuracy: 0.9686417672938313\n"
     ]
    },
    {
     "name": "stderr",
     "output_type": "stream",
     "text": [
      "Validation Epoch 2/5: 100%|██████████| 155/155 [03:32<00:00,  1.37s/it]\n"
     ]
    },
    {
     "name": "stdout",
     "output_type": "stream",
     "text": [
      "Epoch 2/5, Validation Loss: 1.2725473496221726, Validation Accuracy: 0.5908815816017753\n"
     ]
    },
    {
     "name": "stderr",
     "output_type": "stream",
     "text": [
      "Training Epoch 3/5: 100%|██████████| 167/167 [1:19:32<00:00, 28.58s/it]\n"
     ]
    },
    {
     "name": "stdout",
     "output_type": "stream",
     "text": [
      "Epoch 3/5, Train Loss: 0.058376020077102915, Train Accuracy: 0.9853973602920528\n"
     ]
    },
    {
     "name": "stderr",
     "output_type": "stream",
     "text": [
      "Validation Epoch 3/5: 100%|██████████| 155/155 [03:51<00:00,  1.49s/it]\n"
     ]
    },
    {
     "name": "stdout",
     "output_type": "stream",
     "text": [
      "Epoch 3/5, Validation Loss: 1.607297905029789, Validation Accuracy: 0.545692959451281\n",
      "No improvement in validation loss for 3 epochs. Stopping training.\n"
     ]
    },
    {
     "ename": "ValueError",
     "evalue": "x and y must have same first dimension, but have shapes (5,) and (3,)",
     "output_type": "error",
     "traceback": [
      "\u001b[0;31m---------------------------------------------------------------------------\u001b[0m",
      "\u001b[0;31mValueError\u001b[0m                                Traceback (most recent call last)",
      "Cell \u001b[0;32mIn[12], line 111\u001b[0m\n\u001b[1;32m    109\u001b[0m \u001b[38;5;66;03m# Training and Validation Loss\u001b[39;00m\n\u001b[1;32m    110\u001b[0m plt\u001b[38;5;241m.\u001b[39msubplot(\u001b[38;5;241m1\u001b[39m, \u001b[38;5;241m2\u001b[39m, \u001b[38;5;241m1\u001b[39m)\n\u001b[0;32m--> 111\u001b[0m \u001b[43mplt\u001b[49m\u001b[38;5;241;43m.\u001b[39;49m\u001b[43mplot\u001b[49m\u001b[43m(\u001b[49m\u001b[38;5;28;43mrange\u001b[39;49m\u001b[43m(\u001b[49m\u001b[38;5;241;43m1\u001b[39;49m\u001b[43m,\u001b[49m\u001b[43m \u001b[49m\u001b[43mnum_epochs\u001b[49m\u001b[43m \u001b[49m\u001b[38;5;241;43m+\u001b[39;49m\u001b[43m \u001b[49m\u001b[38;5;241;43m1\u001b[39;49m\u001b[43m)\u001b[49m\u001b[43m,\u001b[49m\u001b[43m \u001b[49m\u001b[43mloss_per_epoch\u001b[49m\u001b[43m[\u001b[49m\u001b[38;5;124;43m'\u001b[39;49m\u001b[38;5;124;43mtrain\u001b[39;49m\u001b[38;5;124;43m'\u001b[39;49m\u001b[43m]\u001b[49m\u001b[43m,\u001b[49m\u001b[43m \u001b[49m\u001b[43mlabel\u001b[49m\u001b[38;5;241;43m=\u001b[39;49m\u001b[38;5;124;43m'\u001b[39;49m\u001b[38;5;124;43mTraining Loss\u001b[39;49m\u001b[38;5;124;43m'\u001b[39;49m\u001b[43m,\u001b[49m\u001b[43m \u001b[49m\u001b[43mmarker\u001b[49m\u001b[38;5;241;43m=\u001b[39;49m\u001b[38;5;124;43m'\u001b[39;49m\u001b[38;5;124;43mo\u001b[39;49m\u001b[38;5;124;43m'\u001b[39;49m\u001b[43m,\u001b[49m\u001b[43m \u001b[49m\u001b[43mlinestyle\u001b[49m\u001b[38;5;241;43m=\u001b[39;49m\u001b[38;5;124;43m'\u001b[39;49m\u001b[38;5;124;43m-\u001b[39;49m\u001b[38;5;124;43m'\u001b[39;49m\u001b[43m,\u001b[49m\u001b[43m \u001b[49m\u001b[43mcolor\u001b[49m\u001b[38;5;241;43m=\u001b[39;49m\u001b[38;5;124;43m'\u001b[39;49m\u001b[38;5;124;43mb\u001b[39;49m\u001b[38;5;124;43m'\u001b[39;49m\u001b[43m)\u001b[49m\n\u001b[1;32m    112\u001b[0m plt\u001b[38;5;241m.\u001b[39mplot(\u001b[38;5;28mrange\u001b[39m(\u001b[38;5;241m1\u001b[39m, num_epochs \u001b[38;5;241m+\u001b[39m \u001b[38;5;241m1\u001b[39m), loss_per_epoch[\u001b[38;5;124m'\u001b[39m\u001b[38;5;124mval\u001b[39m\u001b[38;5;124m'\u001b[39m], label\u001b[38;5;241m=\u001b[39m\u001b[38;5;124m'\u001b[39m\u001b[38;5;124mValidation Loss\u001b[39m\u001b[38;5;124m'\u001b[39m, marker\u001b[38;5;241m=\u001b[39m\u001b[38;5;124m'\u001b[39m\u001b[38;5;124mo\u001b[39m\u001b[38;5;124m'\u001b[39m, linestyle\u001b[38;5;241m=\u001b[39m\u001b[38;5;124m'\u001b[39m\u001b[38;5;124m-\u001b[39m\u001b[38;5;124m'\u001b[39m, color\u001b[38;5;241m=\u001b[39m\u001b[38;5;124m'\u001b[39m\u001b[38;5;124mr\u001b[39m\u001b[38;5;124m'\u001b[39m)\n\u001b[1;32m    113\u001b[0m plt\u001b[38;5;241m.\u001b[39mtitle(\u001b[38;5;124m'\u001b[39m\u001b[38;5;124mTraining and Validation Loss per Epoch\u001b[39m\u001b[38;5;124m'\u001b[39m)\n",
      "File \u001b[0;32m/Library/Frameworks/Python.framework/Versions/3.10/lib/python3.10/site-packages/matplotlib/pyplot.py:3575\u001b[0m, in \u001b[0;36mplot\u001b[0;34m(scalex, scaley, data, *args, **kwargs)\u001b[0m\n\u001b[1;32m   3567\u001b[0m \u001b[38;5;129m@_copy_docstring_and_deprecators\u001b[39m(Axes\u001b[38;5;241m.\u001b[39mplot)\n\u001b[1;32m   3568\u001b[0m \u001b[38;5;28;01mdef\u001b[39;00m \u001b[38;5;21mplot\u001b[39m(\n\u001b[1;32m   3569\u001b[0m     \u001b[38;5;241m*\u001b[39margs: \u001b[38;5;28mfloat\u001b[39m \u001b[38;5;241m|\u001b[39m ArrayLike \u001b[38;5;241m|\u001b[39m \u001b[38;5;28mstr\u001b[39m,\n\u001b[0;32m   (...)\u001b[0m\n\u001b[1;32m   3573\u001b[0m     \u001b[38;5;241m*\u001b[39m\u001b[38;5;241m*\u001b[39mkwargs,\n\u001b[1;32m   3574\u001b[0m ) \u001b[38;5;241m-\u001b[39m\u001b[38;5;241m>\u001b[39m \u001b[38;5;28mlist\u001b[39m[Line2D]:\n\u001b[0;32m-> 3575\u001b[0m     \u001b[38;5;28;01mreturn\u001b[39;00m \u001b[43mgca\u001b[49m\u001b[43m(\u001b[49m\u001b[43m)\u001b[49m\u001b[38;5;241;43m.\u001b[39;49m\u001b[43mplot\u001b[49m\u001b[43m(\u001b[49m\n\u001b[1;32m   3576\u001b[0m \u001b[43m        \u001b[49m\u001b[38;5;241;43m*\u001b[39;49m\u001b[43margs\u001b[49m\u001b[43m,\u001b[49m\n\u001b[1;32m   3577\u001b[0m \u001b[43m        \u001b[49m\u001b[43mscalex\u001b[49m\u001b[38;5;241;43m=\u001b[39;49m\u001b[43mscalex\u001b[49m\u001b[43m,\u001b[49m\n\u001b[1;32m   3578\u001b[0m \u001b[43m        \u001b[49m\u001b[43mscaley\u001b[49m\u001b[38;5;241;43m=\u001b[39;49m\u001b[43mscaley\u001b[49m\u001b[43m,\u001b[49m\n\u001b[1;32m   3579\u001b[0m \u001b[43m        \u001b[49m\u001b[38;5;241;43m*\u001b[39;49m\u001b[38;5;241;43m*\u001b[39;49m\u001b[43m(\u001b[49m\u001b[43m{\u001b[49m\u001b[38;5;124;43m\"\u001b[39;49m\u001b[38;5;124;43mdata\u001b[39;49m\u001b[38;5;124;43m\"\u001b[39;49m\u001b[43m:\u001b[49m\u001b[43m \u001b[49m\u001b[43mdata\u001b[49m\u001b[43m}\u001b[49m\u001b[43m \u001b[49m\u001b[38;5;28;43;01mif\u001b[39;49;00m\u001b[43m \u001b[49m\u001b[43mdata\u001b[49m\u001b[43m \u001b[49m\u001b[38;5;129;43;01mis\u001b[39;49;00m\u001b[43m \u001b[49m\u001b[38;5;129;43;01mnot\u001b[39;49;00m\u001b[43m \u001b[49m\u001b[38;5;28;43;01mNone\u001b[39;49;00m\u001b[43m \u001b[49m\u001b[38;5;28;43;01melse\u001b[39;49;00m\u001b[43m \u001b[49m\u001b[43m{\u001b[49m\u001b[43m}\u001b[49m\u001b[43m)\u001b[49m\u001b[43m,\u001b[49m\n\u001b[1;32m   3580\u001b[0m \u001b[43m        \u001b[49m\u001b[38;5;241;43m*\u001b[39;49m\u001b[38;5;241;43m*\u001b[39;49m\u001b[43mkwargs\u001b[49m\u001b[43m,\u001b[49m\n\u001b[1;32m   3581\u001b[0m \u001b[43m    \u001b[49m\u001b[43m)\u001b[49m\n",
      "File \u001b[0;32m/Library/Frameworks/Python.framework/Versions/3.10/lib/python3.10/site-packages/matplotlib/axes/_axes.py:1721\u001b[0m, in \u001b[0;36mAxes.plot\u001b[0;34m(self, scalex, scaley, data, *args, **kwargs)\u001b[0m\n\u001b[1;32m   1478\u001b[0m \u001b[38;5;250m\u001b[39m\u001b[38;5;124;03m\"\"\"\u001b[39;00m\n\u001b[1;32m   1479\u001b[0m \u001b[38;5;124;03mPlot y versus x as lines and/or markers.\u001b[39;00m\n\u001b[1;32m   1480\u001b[0m \n\u001b[0;32m   (...)\u001b[0m\n\u001b[1;32m   1718\u001b[0m \u001b[38;5;124;03m(``'green'``) or hex strings (``'#008000'``).\u001b[39;00m\n\u001b[1;32m   1719\u001b[0m \u001b[38;5;124;03m\"\"\"\u001b[39;00m\n\u001b[1;32m   1720\u001b[0m kwargs \u001b[38;5;241m=\u001b[39m cbook\u001b[38;5;241m.\u001b[39mnormalize_kwargs(kwargs, mlines\u001b[38;5;241m.\u001b[39mLine2D)\n\u001b[0;32m-> 1721\u001b[0m lines \u001b[38;5;241m=\u001b[39m [\u001b[38;5;241m*\u001b[39m\u001b[38;5;28mself\u001b[39m\u001b[38;5;241m.\u001b[39m_get_lines(\u001b[38;5;28mself\u001b[39m, \u001b[38;5;241m*\u001b[39margs, data\u001b[38;5;241m=\u001b[39mdata, \u001b[38;5;241m*\u001b[39m\u001b[38;5;241m*\u001b[39mkwargs)]\n\u001b[1;32m   1722\u001b[0m \u001b[38;5;28;01mfor\u001b[39;00m line \u001b[38;5;129;01min\u001b[39;00m lines:\n\u001b[1;32m   1723\u001b[0m     \u001b[38;5;28mself\u001b[39m\u001b[38;5;241m.\u001b[39madd_line(line)\n",
      "File \u001b[0;32m/Library/Frameworks/Python.framework/Versions/3.10/lib/python3.10/site-packages/matplotlib/axes/_base.py:303\u001b[0m, in \u001b[0;36m_process_plot_var_args.__call__\u001b[0;34m(self, axes, data, *args, **kwargs)\u001b[0m\n\u001b[1;32m    301\u001b[0m     this \u001b[38;5;241m+\u001b[39m\u001b[38;5;241m=\u001b[39m args[\u001b[38;5;241m0\u001b[39m],\n\u001b[1;32m    302\u001b[0m     args \u001b[38;5;241m=\u001b[39m args[\u001b[38;5;241m1\u001b[39m:]\n\u001b[0;32m--> 303\u001b[0m \u001b[38;5;28;01myield from\u001b[39;00m \u001b[38;5;28;43mself\u001b[39;49m\u001b[38;5;241;43m.\u001b[39;49m\u001b[43m_plot_args\u001b[49m\u001b[43m(\u001b[49m\n\u001b[1;32m    304\u001b[0m \u001b[43m    \u001b[49m\u001b[43maxes\u001b[49m\u001b[43m,\u001b[49m\u001b[43m \u001b[49m\u001b[43mthis\u001b[49m\u001b[43m,\u001b[49m\u001b[43m \u001b[49m\u001b[43mkwargs\u001b[49m\u001b[43m,\u001b[49m\u001b[43m \u001b[49m\u001b[43mambiguous_fmt_datakey\u001b[49m\u001b[38;5;241;43m=\u001b[39;49m\u001b[43mambiguous_fmt_datakey\u001b[49m\u001b[43m)\u001b[49m\n",
      "File \u001b[0;32m/Library/Frameworks/Python.framework/Versions/3.10/lib/python3.10/site-packages/matplotlib/axes/_base.py:499\u001b[0m, in \u001b[0;36m_process_plot_var_args._plot_args\u001b[0;34m(self, axes, tup, kwargs, return_kwargs, ambiguous_fmt_datakey)\u001b[0m\n\u001b[1;32m    496\u001b[0m     axes\u001b[38;5;241m.\u001b[39myaxis\u001b[38;5;241m.\u001b[39mupdate_units(y)\n\u001b[1;32m    498\u001b[0m \u001b[38;5;28;01mif\u001b[39;00m x\u001b[38;5;241m.\u001b[39mshape[\u001b[38;5;241m0\u001b[39m] \u001b[38;5;241m!=\u001b[39m y\u001b[38;5;241m.\u001b[39mshape[\u001b[38;5;241m0\u001b[39m]:\n\u001b[0;32m--> 499\u001b[0m     \u001b[38;5;28;01mraise\u001b[39;00m \u001b[38;5;167;01mValueError\u001b[39;00m(\u001b[38;5;124mf\u001b[39m\u001b[38;5;124m\"\u001b[39m\u001b[38;5;124mx and y must have same first dimension, but \u001b[39m\u001b[38;5;124m\"\u001b[39m\n\u001b[1;32m    500\u001b[0m                      \u001b[38;5;124mf\u001b[39m\u001b[38;5;124m\"\u001b[39m\u001b[38;5;124mhave shapes \u001b[39m\u001b[38;5;132;01m{\u001b[39;00mx\u001b[38;5;241m.\u001b[39mshape\u001b[38;5;132;01m}\u001b[39;00m\u001b[38;5;124m and \u001b[39m\u001b[38;5;132;01m{\u001b[39;00my\u001b[38;5;241m.\u001b[39mshape\u001b[38;5;132;01m}\u001b[39;00m\u001b[38;5;124m\"\u001b[39m)\n\u001b[1;32m    501\u001b[0m \u001b[38;5;28;01mif\u001b[39;00m x\u001b[38;5;241m.\u001b[39mndim \u001b[38;5;241m>\u001b[39m \u001b[38;5;241m2\u001b[39m \u001b[38;5;129;01mor\u001b[39;00m y\u001b[38;5;241m.\u001b[39mndim \u001b[38;5;241m>\u001b[39m \u001b[38;5;241m2\u001b[39m:\n\u001b[1;32m    502\u001b[0m     \u001b[38;5;28;01mraise\u001b[39;00m \u001b[38;5;167;01mValueError\u001b[39;00m(\u001b[38;5;124mf\u001b[39m\u001b[38;5;124m\"\u001b[39m\u001b[38;5;124mx and y can be no greater than 2D, but have \u001b[39m\u001b[38;5;124m\"\u001b[39m\n\u001b[1;32m    503\u001b[0m                      \u001b[38;5;124mf\u001b[39m\u001b[38;5;124m\"\u001b[39m\u001b[38;5;124mshapes \u001b[39m\u001b[38;5;132;01m{\u001b[39;00mx\u001b[38;5;241m.\u001b[39mshape\u001b[38;5;132;01m}\u001b[39;00m\u001b[38;5;124m and \u001b[39m\u001b[38;5;132;01m{\u001b[39;00my\u001b[38;5;241m.\u001b[39mshape\u001b[38;5;132;01m}\u001b[39;00m\u001b[38;5;124m\"\u001b[39m)\n",
      "\u001b[0;31mValueError\u001b[0m: x and y must have same first dimension, but have shapes (5,) and (3,)"
     ]
    },
    {
     "data": {
      "image/png": "[encoded data removed]",
      "text/plain": [
       "<Figure size 1200x600 with 1 Axes>"
      ]
     },
     "metadata": {},
     "output_type": "display_data"
    }
   ],
   "source": [
    "# Model Training\n",
    "best_val_loss = np.Inf  # Initialize with a very large value for early stopping\n",
    "\n",
    "for epoch in range(num_epochs):\n",
    "    model.train()\n",
    "    total_loss = 0\n",
    "    correct_predictions = 0\n",
    "    total_samples = 0\n",
    "\n",
    "    for batch in tqdm(dataloader_train, desc=f'Training Epoch {epoch + 1}/{num_epochs}'):\n",
    "        batch_input_ids, batch_attention_masks, batch_labels = batch\n",
    "        batch_input_ids, batch_attention_masks, batch_labels = (\n",
    "            batch_input_ids.to(device),\n",
    "            batch_attention_masks.to(device),\n",
    "            batch_labels.to(device),\n",
    "        )\n",
    "\n",
    "        # Zero the gradients\n",
    "        optimizer.zero_grad()\n",
    "\n",
    "        # Forward pass\n",
    "        outputs = model(\n",
    "            input_ids=batch_input_ids,\n",
    "            attention_mask=batch_attention_masks,\n",
    "            labels=batch_labels,\n",
    "        )\n",
    "\n",
    "        # Calculate loss\n",
    "        loss = outputs.loss\n",
    "\n",
    "        # Backward pass\n",
    "        loss.backward()\n",
    "\n",
    "        # Update parameters\n",
    "        optimizer.step()\n",
    "\n",
    "        total_loss += loss.item()\n",
    "\n",
    "        # Calculate training accuracy\n",
    "        _, predicted_labels = torch.max(outputs.logits, 1)\n",
    "        # print(predicted_labels)\n",
    "        # print(batch_labels)\n",
    "        correct_predictions += (predicted_labels == batch_labels).sum().item()\n",
    "        total_samples += batch_labels.size(0)\n",
    "\n",
    "    # Calculate accuracy for the training epoch\n",
    "    accuracy_train = correct_predictions / total_samples\n",
    "    accuracy_per_epoch['train'].append(accuracy_train)\n",
    "\n",
    "    # Calculate average loss for the training epoch\n",
    "    average_loss_train = total_loss / len(dataloader_train)\n",
    "    loss_per_epoch['train'].append(average_loss_train)\n",
    "   \n",
    "    print(f\"Epoch {epoch + 1}/{num_epochs}, Train Loss: {average_loss_train}, Train Accuracy: {accuracy_train}\")\n",
    "\n",
    "    # Validation\n",
    "    model.eval()  # Set the model to evaluation mode\n",
    "    total_loss_val = 0\n",
    "    correct_predictions_val = 0\n",
    "    total_samples_val = 0\n",
    "\n",
    "    with torch.no_grad():  # Disable gradient computation during validation\n",
    "        for batch_val in tqdm(dataloader_val, desc=f'Validation Epoch {epoch + 1}/{num_epochs}'):\n",
    "            batch_input_ids, batch_attention_masks, batch_labels = batch_val\n",
    "            batch_input_ids, batch_attention_masks, batch_labels = (\n",
    "                batch_input_ids.to(device),\n",
    "                batch_attention_masks.to(device),\n",
    "                batch_labels.to(device),\n",
    "            )\n",
    "            outputs = model(\n",
    "                    input_ids=batch_input_ids,\n",
    "                    attention_mask=batch_attention_masks,\n",
    "                    labels=batch_labels,\n",
    "                )\n",
    "\n",
    "            loss_val = outputs.loss\n",
    "            total_loss_val += loss_val.item()\n",
    "\n",
    "            _, predicted_labels_val = torch.max(outputs.logits, 1)\n",
    "            correct_predictions_val += (predicted_labels_val == batch_labels).sum().item()\n",
    "            total_samples_val += batch_labels.size(0)\n",
    "\n",
    "    # Calculate accuracy for the validation epoch\n",
    "    accuracy_val = correct_predictions_val / total_samples_val\n",
    "    accuracy_per_epoch['val'].append(accuracy_val)\n",
    "\n",
    "    # Calculate average loss for the validation epoch\n",
    "    average_loss_val = total_loss_val / len(dataloader_val)\n",
    "    loss_per_epoch['val'].append(average_loss_val)\n",
    "\n",
    "    print(f\"Epoch {epoch + 1}/{num_epochs}, Validation Loss: {average_loss_val}, Validation Accuracy: {accuracy_val}\")\n",
    "    \n",
    "    # Early stopping logic\n",
    "    if average_loss_val < best_val_loss:\n",
    "        best_val_loss = average_loss_val\n",
    "    else:\n",
    "        print(f\"No improvement in validation loss for {epoch + 1} epochs. Stopping training.\")\n",
    "        break  # Exit training loop if early stopping condition is met\n",
    "\n",
    "# Save the trained model (This method is specific to the transformers library and is designed for saving transformer-based models.)\n",
    "# It saves the model in a format that includes the architecture, parameters, and additional information specific to the transformers library.\n",
    "# It provides a higher-level abstraction that is specific to transformer models and allows for easily loading the model using AutoModelForSequenceClassification.from_pretrained later.\n",
    "model.save_pretrained(\"./model/BERTweet model_multiclass_v2\")\n",
    "tokenizer.save_pretrained(\"./model/BERTweet model_multiclass_v2\")\n",
    "\n",
    "executed_epochs = len(loss_per_epoch['train'])\n",
    "\n",
    "# Plot the loss values\n",
    "plt.figure(figsize=(12, 6))\n",
    "\n",
    "# Training and Validation Loss\n",
    "plt.subplot(1, 2, 1)\n",
    "plt.plot(range(1, executed_epochs + 1), loss_per_epoch['train'], label='Training Loss', marker='o', linestyle='-', color='b')\n",
    "plt.plot(range(1, executed_epochs + 1), loss_per_epoch['val'], label='Validation Loss', marker='o', linestyle='-', color='r')\n",
    "plt.title('Training and Validation Loss per Epoch')\n",
    "plt.xlabel('Epoch')\n",
    "plt.ylabel('Loss')\n",
    "plt.legend()\n",
    "plt.grid(True)\n",
    "\n",
    "# Training and Validation Accuracy\n",
    "plt.subplot(1, 2, 2)\n",
    "plt.plot(range(1, executed_epochs + 1), accuracy_per_epoch['train'], label='Training Accuracy', marker='o', linestyle='-', color='b')\n",
    "plt.plot(range(1, executed_epochs + 1), accuracy_per_epoch['val'], label='Validation Accuracy', marker='o', linestyle='-', color='r')\n",
    "plt.title('Training and Validation Accuracy per Epoch')\n",
    "plt.xlabel('Epoch')\n",
    "plt.ylabel('Accuracy')\n",
    "plt.legend()\n",
    "plt.grid(True)\n",
    "\n",
    "plt.tight_layout()\n",
    "plt.show()"
   ]
  },
  {
   "cell_type": "code",
   "execution_count": 17,
   "metadata": {},
   "outputs": [],
   "source": [
    "# trained model\n",
    "# lr = 5e-5\n",
    "# batch size = 32\n",
    "# epoch = 5\n",
    "# total training time = 331 mins\n",
    "# optimizer = AdamW\n",
    "\n",
    "# Load the BERTweet tokenizer and model for sequence classification\n",
    "model_path = \"./model/BERTweet model_multiclass\"\n",
    "tokenizer = AutoTokenizer.from_pretrained(model_path)\n",
    "model = AutoModelForSequenceClassification.from_pretrained(model_path, num_labels=3)\n"
   ]
  },
  {
   "cell_type": "code",
   "execution_count": 20,
   "metadata": {},
   "outputs": [
    {
     "name": "stdout",
     "output_type": "stream",
     "text": [
      "BERTweet_multiclass:\n",
      "                     precision    recall  f1-score   support\n",
      "\n",
      "        Hate Speech       0.11      0.84      0.20       275\n",
      "Offensive Languages       0.99      0.45      0.62      3867\n",
      "            Neutral       0.63      0.90      0.74       815\n",
      "\n",
      "           accuracy                           0.55      4957\n",
      "          macro avg       0.58      0.73      0.52      4957\n",
      "       weighted avg       0.88      0.55      0.62      4957\n",
      "\n"
     ]
    },
    {
     "data": {
      "image/png": "[encoded data removed]",
      "text/plain": [
       "<Figure size 800x800 with 2 Axes>"
      ]
     },
     "metadata": {},
     "output_type": "display_data"
    }
   ],
   "source": [
    "label_dict = {'Hate Speech': 0, 'Offensive Languages': 1, 'Neutral': 2}\n",
    "\n",
    "# Evaluation loop\n",
    "model.eval()\n",
    "all_preds = []\n",
    "\n",
    "with torch.no_grad():\n",
    "    for batch in dataloader_test:\n",
    "        input_ids, attention_masks, labels = [tensor.to(device) for tensor in batch]\n",
    "\n",
    "        outputs = model(input_ids, attention_mask=attention_masks)\n",
    "        logits = outputs.logits\n",
    "        preds = torch.argmax(logits, dim=1).cpu().numpy()\n",
    "        all_preds.extend(preds)\n",
    "\n",
    "# Evaluate the model\n",
    "print(\"BERTweet_multiclass:\")\n",
    "print(classification_report(y_test, all_preds, target_names=label_dict.keys()))\n",
    "\n",
    "# Generate confusion matrix\n",
    "conf_mat = confusion_matrix(y_test, all_preds)\n",
    "accuracy_bertweet = accuracy_score(y_test, all_preds)\n",
    "\n",
    "# Display the confusion matrix as a heatmap\n",
    "plt.figure(figsize=(8, 8))\n",
    "# sns.heatmap(conf_mat, annot=True, cmap='Blues', xticklabels=label_dict.keys(), yticklabels=label_dict.keys())\n",
    "sns.heatmap(conf_mat, annot=True, cmap=\"Blues\", fmt='g', xticklabels=label_dict.keys(), yticklabels=label_dict.keys())\n",
    "plt.title(f'Confusion Matrix\\nAccuracy: {accuracy_bertweet:.2f}')\n",
    "plt.xlabel('Predicted')\n",
    "plt.ylabel('True')\n",
    "plt.show()\n"
   ]
  }
 ],
 "metadata": {
  "kernelspec": {
   "display_name": "Python 3",
   "language": "python",
   "name": "python3"
  },
  "language_info": {
   "codemirror_mode": {
    "name": "ipython",
    "version": 3
   },
   "file_extension": ".py",
   "mimetype": "text/x-python",
   "name": "python",
   "nbconvert_exporter": "python",
   "pygments_lexer": "ipython3",
   "version": "3.10.11"
  }
 },
 "nbformat": 4,
 "nbformat_minor": 2
}
