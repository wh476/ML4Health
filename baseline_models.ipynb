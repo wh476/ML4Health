{
 "cells": [
  {
   "cell_type": "code",
   "execution_count": 1,
   "metadata": {},
   "outputs": [],
   "source": [
    "import pandas as pd\n",
    "import numpy as np\n",
    "import pickle\n",
    "import sys\n",
    "from sklearn.feature_extraction.text import TfidfVectorizer\n",
    "import nltk\n",
    "from nltk.stem.porter import *\n",
    "import string\n",
    "import re\n",
    "from sklearn.linear_model import LogisticRegression\n",
    "from sklearn.feature_selection import SelectFromModel\n",
    "from sklearn.metrics import classification_report\n",
    "from sklearn.svm import LinearSVC\n",
    "import matplotlib.pyplot as plt\n",
    "import seaborn\n",
    "%matplotlib inline\n"
   ]
  },
  {
   "cell_type": "code",
   "execution_count": 2,
   "metadata": {},
   "outputs": [
    {
     "name": "stderr",
     "output_type": "stream",
     "text": [
      "[nltk_data] Downloading package punkt to /Users/luohy/nltk_data...\n",
      "[nltk_data]   Package punkt is already up-to-date!\n"
     ]
    },
    {
     "data": {
      "text/plain": [
       "True"
      ]
     },
     "execution_count": 2,
     "metadata": {},
     "output_type": "execute_result"
    }
   ],
   "source": [
    "import nltk\n",
    "import ssl\n",
    "\n",
    "try:\n",
    "    _create_unverified_https_context = ssl._create_unverified_context\n",
    "except AttributeError:\n",
    "    pass\n",
    "else:\n",
    "    ssl._create_default_https_context = _create_unverified_https_context\n",
    "\n",
    "nltk.download('punkt')"
   ]
  },
  {
   "cell_type": "markdown",
   "metadata": {},
   "source": [
    "### Load the data"
   ]
  },
  {
   "cell_type": "code",
   "execution_count": 3,
   "metadata": {},
   "outputs": [
    {
     "name": "stdout",
     "output_type": "stream",
     "text": [
      "(24783, 3)\n",
      "   label                                              tweet  \\\n",
      "0      2  !!! rt @mayasolovely: as a woman you shouldn't...   \n",
      "1      1  !!!!! rt @mleew17: boy dats cold...tyga dwn ba...   \n",
      "2      1  !!!!!!! rt @urkindofbrand dawg!!!! rt @80sbaby...   \n",
      "3      1  !!!!!!!!! rt @c_g_anderson: @viva_based she lo...   \n",
      "4      1  !!!!!!!!!!!!! rt @shenikaroberts: the shit you...   \n",
      "5      1  !!!!!!!!!!!!!!!!!!\"@t_madison_x: the shit just...   \n",
      "6      1  !!!!!!\"@__brighterdays: i can not just sit up ...   \n",
      "7      1  !!!!“@selfiequeenbri: cause i'm tired of you b...   \n",
      "8      1  \" & you might not get ya bitch back & thats th...   \n",
      "9      1  \" @rhythmixx_ :hobbies include: fighting maria...   \n",
      "\n",
      "       label_category  \n",
      "0             Neutral  \n",
      "1  Offensive Language  \n",
      "2  Offensive Language  \n",
      "3  Offensive Language  \n",
      "4  Offensive Language  \n",
      "5  Offensive Language  \n",
      "6  Offensive Language  \n",
      "7  Offensive Language  \n",
      "8  Offensive Language  \n",
      "9  Offensive Language  \n",
      "              label\n",
      "count  24783.000000\n",
      "mean       1.110277\n",
      "std        0.462089\n",
      "min        0.000000\n",
      "25%        1.000000\n",
      "50%        1.000000\n",
      "75%        1.000000\n",
      "max        2.000000\n"
     ]
    }
   ],
   "source": [
    "dataset = pd.read_csv('./dataset/cleaned_dataset.csv')\n",
    "print(dataset.shape)\n",
    "print(dataset.head(10))\n",
    "print(dataset.describe())"
   ]
  },
  {
   "cell_type": "markdown",
   "metadata": {},
   "source": [
    "labels:\n",
    "\n",
    "- hate 0\n",
    "- offensive 1\n",
    "- netural 2\n",
    "  "
   ]
  },
  {
   "cell_type": "code",
   "execution_count": 4,
   "metadata": {},
   "outputs": [
    {
     "name": "stdout",
     "output_type": "stream",
     "text": [
      "Training set shape:  (19826,) \n",
      "Label distribution: \n",
      " label\n",
      "1    15358\n",
      "2     3328\n",
      "0     1140\n",
      "Name: count, dtype: int64\n",
      "\n",
      "Testing set shape:  (4957,) \n",
      "Label distribution: \n",
      " label\n",
      "1    3832\n",
      "2     835\n",
      "0     290\n",
      "Name: count, dtype: int64\n"
     ]
    }
   ],
   "source": [
    "from sklearn.model_selection import train_test_split\n",
    "\n",
    "X = dataset['tweet']  # Input features\n",
    "y = dataset['label']  # Target variable\n",
    "\n",
    "X_train, X_test, y_train, y_test = train_test_split(X, y, test_size=0.2, random_state=42)\n",
    "\n",
    "print(\"Training set shape: \", X_train.shape, \"\\nLabel distribution: \\n\", y_train.value_counts())\n",
    "print(\"\\nTesting set shape: \", X_test.shape, \"\\nLabel distribution: \\n\", y_test.value_counts())"
   ]
  },
  {
   "cell_type": "markdown",
   "metadata": {},
   "source": [
    "### Feature engineering and imbalanced data handling"
   ]
  },
  {
   "cell_type": "markdown",
   "metadata": {},
   "source": [
    "The goal is to choose the best method to deal with imbalanced dataset\n",
    "\n",
    "- resampling method: SMOTE, ENN, SMOTEENN\n",
    "- tokenizer: tweet\n",
    "- vectorizer: tf-idf \n",
    "- ml models: logistic regression, random forest\n",
    "\n",
    "Resampling Methods:\n",
    "- Oversampling: SMOTE\n",
    "- Undersampling: ENN\n",
    "- Typically, SMOTEENN and other combined resampling strategies would be used to increase the number of instances in underrepresented classes, not to decrease the instances in the majority class."
   ]
  },
  {
   "cell_type": "code",
   "execution_count": 5,
   "metadata": {},
   "outputs": [
    {
     "name": "stderr",
     "output_type": "stream",
     "text": [
      "[nltk_data] Downloading package stopwords to /Users/luohy/nltk_data...\n",
      "[nltk_data]   Package stopwords is already up-to-date!\n"
     ]
    },
    {
     "name": "stdout",
     "output_type": "stream",
     "text": [
      "['i', 'me', 'my', 'myself', 'we', 'our', 'ours', 'ourselves', 'you', \"you're\", \"you've\", \"you'll\", \"you'd\", 'your', 'yours', 'yourself', 'yourselves', 'he', 'him', 'his', 'himself', 'she', \"she's\", 'her', 'hers', 'herself', 'it', \"it's\", 'its', 'itself', 'they', 'them', 'their', 'theirs', 'themselves', 'what', 'which', 'who', 'whom', 'this', 'that', \"that'll\", 'these', 'those', 'am', 'is', 'are', 'was', 'were', 'be', 'been', 'being', 'have', 'has', 'had', 'having', 'do', 'does', 'did', 'doing', 'a', 'an', 'the', 'and', 'but', 'if', 'or', 'because', 'as', 'until', 'while', 'of', 'at', 'by', 'for', 'with', 'about', 'against', 'between', 'into', 'through', 'during', 'before', 'after', 'above', 'below', 'to', 'from', 'up', 'down', 'in', 'out', 'on', 'off', 'over', 'under', 'again', 'further', 'then', 'once', 'here', 'there', 'when', 'where', 'why', 'how', 'all', 'any', 'both', 'each', 'few', 'more', 'most', 'other', 'some', 'such', 'no', 'nor', 'not', 'only', 'own', 'same', 'so', 'than', 'too', 'very', 's', 't', 'can', 'will', 'just', 'don', \"don't\", 'should', \"should've\", 'now', 'd', 'll', 'm', 'o', 're', 've', 'y', 'ain', 'aren', \"aren't\", 'couldn', \"couldn't\", 'didn', \"didn't\", 'doesn', \"doesn't\", 'hadn', \"hadn't\", 'hasn', \"hasn't\", 'haven', \"haven't\", 'isn', \"isn't\", 'ma', 'mightn', \"mightn't\", 'mustn', \"mustn't\", 'needn', \"needn't\", 'shan', \"shan't\", 'shouldn', \"shouldn't\", 'wasn', \"wasn't\", 'weren', \"weren't\", 'won', \"won't\", 'wouldn', \"wouldn't\"]\n"
     ]
    }
   ],
   "source": [
    "import nltk\n",
    "nltk.download('stopwords')\n",
    "from nltk.corpus import stopwords\n",
    "stop_words = stopwords.words('english')\n",
    "print(stop_words)\n",
    "\n",
    "from nltk.tokenize import TweetTokenizer, word_tokenize\n",
    "from sklearn.feature_extraction.text import TfidfVectorizer\n",
    "from imblearn.over_sampling import SMOTE\n",
    "from imblearn.under_sampling import EditedNearestNeighbours\n",
    "from imblearn.combine import SMOTEENN\n",
    "from sklearn.linear_model import LogisticRegression\n",
    "from sklearn.ensemble import RandomForestClassifier\n",
    "from imblearn.pipeline import Pipeline as ImbPipeline"
   ]
  },
  {
   "cell_type": "code",
   "execution_count": 6,
   "metadata": {},
   "outputs": [],
   "source": [
    "from imblearn.over_sampling import SMOTE\n",
    "from sklearn.base import BaseEstimator, ClassifierMixin\n",
    "from imblearn.base import SamplerMixin\n",
    "\n",
    "class CustomSMOTE(BaseEstimator, ClassifierMixin):\n",
    "    def __init__(self, sampling_strategy='auto', k_neighbors=5, random_state=42):\n",
    "        self.sampler = SMOTE(sampling_strategy=sampling_strategy, k_neighbors=k_neighbors, random_state=random_state)\n",
    "\n",
    "    def fit_resample(self, X, y):\n",
    "        X_res, y_res = self.sampler.fit_resample(X, y)\n",
    "        self.sampled_y_ = y_res\n",
    "        return X_res, y_res\n",
    "    \n",
    "class CustomENN(BaseEstimator, ClassifierMixin):\n",
    "    def __init__(self, n_neighbors=3, kind_sel='all'):\n",
    "        self.sampler = EditedNearestNeighbours(n_neighbors=n_neighbors, kind_sel=kind_sel)\n",
    "\n",
    "    def fit_resample(self, X, y):\n",
    "        X_res, y_res = self.sampler.fit_resample(X, y)\n",
    "        self.sampled_y_ = y_res\n",
    "        return X_res, y_res\n",
    "\n",
    "class CustomSMOTEENN(BaseEstimator, ClassifierMixin):\n",
    "    def __init__(self, smote_params=None, enn_params=None, sampling_strategy=None, random_state=None):\n",
    "        # Initialize SMOTE and ENN with any provided parameters\n",
    "        self.smote = SMOTE(**(smote_params if smote_params else {}))\n",
    "        self.enn = EditedNearestNeighbours(**(enn_params if enn_params else {}))\n",
    "        # Initialize SMOTEENN with the appropriate sampling_strategy\n",
    "        self.sampler = SMOTEENN(smote=self.smote, enn=self.enn, sampling_strategy=sampling_strategy,\n",
    "                                random_state=random_state, n_jobs=-1)\n",
    "\n",
    "    def fit_resample(self, X, y):\n",
    "        X_res, y_res = self.sampler.fit_resample(X, y)\n",
    "        self.sampled_y_ = y_res\n",
    "        return X_res, y_res\n"
   ]
  },
  {
   "cell_type": "markdown",
   "metadata": {},
   "source": [
    "### Fine tuning resampling methods"
   ]
  },
  {
   "cell_type": "code",
   "execution_count": 31,
   "metadata": {},
   "outputs": [],
   "source": [
    "stopwords = nltk.corpus.stopwords.words(\"english\")\n",
    "other_exclusions = [\"#ff\", \"ff\", \"rt\", \"MENTIONHERE\",\"HTTPURL\"]\n",
    "stopwords.extend(other_exclusions)\n",
    "\n",
    "# Define sampling methods\n",
    "\n",
    "smote_params = {\n",
    "    'k_neighbors': 5\n",
    "}\n",
    "enn_params = {\n",
    "    'n_neighbors': 3,  # More neighbors for a less aggressive cleaning\n",
    "    'kind_sel': 'mode'\n",
    "}\n",
    "\n",
    "sampling_strategy={0: 2000, 2: 4000}\n",
    "\n",
    "sampling_methods = {\n",
    "    'CustomSMOTE': CustomSMOTE(k_neighbors=5, random_state=42),\n",
    "    'CustomENN': CustomENN(n_neighbors=7, kind_sel='mode'),\n",
    "    'CustomSMOTEENN': CustomSMOTEENN(sampling_strategy=sampling_strategy, \n",
    "                                     smote_params=smote_params,\n",
    "                                     enn_params=enn_params,\n",
    "                                     random_state=42)\n",
    "}\n",
    "\n",
    "# Define vectorizers\n",
    "# Update the vectorizers\n",
    "vectorizers = {\n",
    "    'TfidfVectorizer_Tweet': TfidfVectorizer(\n",
    "        tokenizer=TweetTokenizer().tokenize,\n",
    "        ngram_range=(1, 3),\n",
    "        stop_words=stopwords,\n",
    "        use_idf=True,\n",
    "        smooth_idf=False,\n",
    "        norm=None,\n",
    "        decode_error='replace',\n",
    "        max_features=10000,\n",
    "        min_df=5,\n",
    "        max_df=0.75\n",
    "        ),\n",
    "    # 'TfidfVectorizer_Word': TfidfVectorizer(\n",
    "    #     tokenizer=word_tokenize,\n",
    "    #     ngram_range=(1, 3),\n",
    "    #     stop_words=stopwords,\n",
    "    #     use_idf=True,\n",
    "    #     smooth_idf=False,\n",
    "    #     norm=None,\n",
    "    #     decode_error='replace',\n",
    "    #     max_features=10000,\n",
    "    #     min_df=5,\n",
    "    #     max_df=0.75\n",
    "    #     )\n",
    "}\n",
    "\n",
    "# Define models\n",
    "models = {\n",
    "    'LogisticRegression': LogisticRegression(multi_class='multinomial', solver='lbfgs', max_iter=200),\n",
    "    'RandomForest': RandomForestClassifier(n_estimators=100, random_state=42)\n",
    "}\n",
    "\n",
    "# Construct pipelines for each combination of sampling methods, vectorizers, and models\n",
    "pipelines = []\n",
    "for sampling_method_name, sampling_method in sampling_methods.items():\n",
    "    for vectorizer_name, vectorizer in vectorizers.items():\n",
    "        for model_name, model in models.items():\n",
    "            steps = [('vectorizer', vectorizer),\n",
    "                     ('sampling', sampling_method),\n",
    "                     ('clf', model)]\n",
    "            pipeline_name = f\"{sampling_method_name}_{vectorizer_name}_{model_name}\"\n",
    "            pipeline = ImbPipeline(steps)\n",
    "            pipelines.append((pipeline_name, sampling_method_name, model_name, pipeline))\n"
   ]
  },
  {
   "cell_type": "markdown",
   "metadata": {},
   "source": [
    "## Model Training & Evaluation"
   ]
  },
  {
   "cell_type": "markdown",
   "metadata": {},
   "source": [
    "Metrics chosen:\n",
    "- TP: is hate, predict hate\n",
    "- TN: is offensive, predict offensive\n",
    "- FP: is offensive, predict hate\n",
    "- FN: is hate, predict offensive  -- we want to avoid this\n",
    "\n",
    "To minimize false negatives, you would typically optimize for high recall and consider the F1 Score to ensure that the increase in recall doesn't compromise precision too much. \n",
    "- Recall (Sensitivity): This is the primary metric you should focus on if you want to minimize false negatives.  Recall = TP / TP + FN\n",
    "- F1 Score: While recall is focused on minimizing false negatives, it does not take into account the number of false positives (incorrectly labeling negative cases as positive). The F1 Score provides a balance between recall and precision (which measures the accuracy of the positive predictions made by the model)\n",
    "- Accuray: will be viewd as a side measurement."
   ]
  },
  {
   "cell_type": "code",
   "execution_count": 32,
   "metadata": {},
   "outputs": [
    {
     "name": "stdout",
     "output_type": "stream",
     "text": [
      "Training CustomSMOTE_TfidfVectorizer_Tweet_LogisticRegression...\n"
     ]
    },
    {
     "name": "stderr",
     "output_type": "stream",
     "text": [
      "/Users/luohy/Documents/Projects/ML4health/projenv/lib/python3.11/site-packages/sklearn/feature_extraction/text.py:525: UserWarning: The parameter 'token_pattern' will not be used since 'tokenizer' is not None'\n",
      "  warnings.warn(\n",
      "/Users/luohy/Documents/Projects/ML4health/projenv/lib/python3.11/site-packages/sklearn/feature_extraction/text.py:408: UserWarning: Your stop_words may be inconsistent with your preprocessing. Tokenizing the stop words generated tokens ['httpurl', 'mentionhere'] not in stop_words.\n",
      "  warnings.warn(\n"
     ]
    },
    {
     "name": "stdout",
     "output_type": "stream",
     "text": [
      "Training label distribution before resampling: [ 1140 15358  3328]\n",
      "Training label distribution after resampling: [15358 15358 15358]\n",
      "Evaluation results for CustomSMOTE_TfidfVectorizer_Tweet_LogisticRegression:\n",
      "                    precision    recall  f1-score   support\n",
      "\n",
      "       Hate Speech       0.21      0.34      0.26       290\n",
      "Offensive Language       0.92      0.87      0.89      3832\n",
      "           Neutral       0.79      0.78      0.78       835\n",
      "\n",
      "          accuracy                           0.83      4957\n",
      "         macro avg       0.64      0.66      0.65      4957\n",
      "      weighted avg       0.85      0.83      0.84      4957\n",
      "\n",
      "Training CustomSMOTE_TfidfVectorizer_Tweet_RandomForest...\n"
     ]
    },
    {
     "name": "stderr",
     "output_type": "stream",
     "text": [
      "/Users/luohy/Documents/Projects/ML4health/projenv/lib/python3.11/site-packages/sklearn/feature_extraction/text.py:525: UserWarning: The parameter 'token_pattern' will not be used since 'tokenizer' is not None'\n",
      "  warnings.warn(\n"
     ]
    },
    {
     "name": "stdout",
     "output_type": "stream",
     "text": [
      "Training label distribution before resampling: [ 1140 15358  3328]\n",
      "Training label distribution after resampling: [15358 15358 15358]\n",
      "Evaluation results for CustomSMOTE_TfidfVectorizer_Tweet_RandomForest:\n",
      "                    precision    recall  f1-score   support\n",
      "\n",
      "       Hate Speech       0.42      0.23      0.30       290\n",
      "Offensive Language       0.91      0.95      0.93      3832\n",
      "           Neutral       0.79      0.75      0.77       835\n",
      "\n",
      "          accuracy                           0.87      4957\n",
      "         macro avg       0.71      0.64      0.66      4957\n",
      "      weighted avg       0.86      0.87      0.86      4957\n",
      "\n",
      "Training CustomENN_TfidfVectorizer_Tweet_LogisticRegression...\n"
     ]
    },
    {
     "name": "stderr",
     "output_type": "stream",
     "text": [
      "/Users/luohy/Documents/Projects/ML4health/projenv/lib/python3.11/site-packages/sklearn/feature_extraction/text.py:525: UserWarning: The parameter 'token_pattern' will not be used since 'tokenizer' is not None'\n",
      "  warnings.warn(\n"
     ]
    },
    {
     "name": "stdout",
     "output_type": "stream",
     "text": [
      "Training label distribution before resampling: [ 1140 15358  3328]\n",
      "Training label distribution after resampling: [ 1140 14274  1957]\n",
      "Evaluation results for CustomENN_TfidfVectorizer_Tweet_LogisticRegression:\n",
      "                    precision    recall  f1-score   support\n",
      "\n",
      "       Hate Speech       0.31      0.42      0.35       290\n",
      "Offensive Language       0.91      0.91      0.91      3832\n",
      "           Neutral       0.83      0.72      0.77       835\n",
      "\n",
      "          accuracy                           0.85      4957\n",
      "         macro avg       0.68      0.69      0.68      4957\n",
      "      weighted avg       0.86      0.85      0.86      4957\n",
      "\n",
      "Training CustomENN_TfidfVectorizer_Tweet_RandomForest...\n"
     ]
    },
    {
     "name": "stderr",
     "output_type": "stream",
     "text": [
      "/Users/luohy/Documents/Projects/ML4health/projenv/lib/python3.11/site-packages/sklearn/feature_extraction/text.py:525: UserWarning: The parameter 'token_pattern' will not be used since 'tokenizer' is not None'\n",
      "  warnings.warn(\n"
     ]
    },
    {
     "name": "stdout",
     "output_type": "stream",
     "text": [
      "Training label distribution before resampling: [ 1140 15358  3328]\n",
      "Training label distribution after resampling: [ 1140 14274  1957]\n",
      "Evaluation results for CustomENN_TfidfVectorizer_Tweet_RandomForest:\n",
      "                    precision    recall  f1-score   support\n",
      "\n",
      "       Hate Speech       0.41      0.38      0.40       290\n",
      "Offensive Language       0.92      0.93      0.92      3832\n",
      "           Neutral       0.78      0.79      0.79       835\n",
      "\n",
      "          accuracy                           0.87      4957\n",
      "         macro avg       0.71      0.70      0.70      4957\n",
      "      weighted avg       0.87      0.87      0.87      4957\n",
      "\n",
      "Training CustomSMOTEENN_TfidfVectorizer_Tweet_LogisticRegression...\n"
     ]
    },
    {
     "name": "stderr",
     "output_type": "stream",
     "text": [
      "/Users/luohy/Documents/Projects/ML4health/projenv/lib/python3.11/site-packages/sklearn/feature_extraction/text.py:525: UserWarning: The parameter 'token_pattern' will not be used since 'tokenizer' is not None'\n",
      "  warnings.warn(\n"
     ]
    },
    {
     "name": "stdout",
     "output_type": "stream",
     "text": [
      "Training label distribution before resampling: [ 1140 15358  3328]\n",
      "Training label distribution after resampling: [15358  8733 15083]\n",
      "Evaluation results for CustomSMOTEENN_TfidfVectorizer_Tweet_LogisticRegression:\n",
      "                    precision    recall  f1-score   support\n",
      "\n",
      "       Hate Speech       0.21      0.56      0.30       290\n",
      "Offensive Language       0.96      0.78      0.86      3832\n",
      "           Neutral       0.71      0.88      0.78       835\n",
      "\n",
      "          accuracy                           0.79      4957\n",
      "         macro avg       0.62      0.74      0.65      4957\n",
      "      weighted avg       0.87      0.79      0.82      4957\n",
      "\n",
      "Training CustomSMOTEENN_TfidfVectorizer_Tweet_RandomForest...\n"
     ]
    },
    {
     "name": "stderr",
     "output_type": "stream",
     "text": [
      "/Users/luohy/Documents/Projects/ML4health/projenv/lib/python3.11/site-packages/sklearn/feature_extraction/text.py:525: UserWarning: The parameter 'token_pattern' will not be used since 'tokenizer' is not None'\n",
      "  warnings.warn(\n"
     ]
    },
    {
     "name": "stdout",
     "output_type": "stream",
     "text": [
      "Training label distribution before resampling: [ 1140 15358  3328]\n",
      "Training label distribution after resampling: [15358  8800 15103]\n",
      "Evaluation results for CustomSMOTEENN_TfidfVectorizer_Tweet_RandomForest:\n",
      "                    precision    recall  f1-score   support\n",
      "\n",
      "       Hate Speech       0.34      0.38      0.36       290\n",
      "Offensive Language       0.95      0.89      0.92      3832\n",
      "           Neutral       0.72      0.89      0.80       835\n",
      "\n",
      "          accuracy                           0.86      4957\n",
      "         macro avg       0.67      0.72      0.69      4957\n",
      "      weighted avg       0.87      0.86      0.87      4957\n",
      "\n"
     ]
    }
   ],
   "source": [
    "from sklearn.metrics import classification_report, confusion_matrix, accuracy_score, recall_score, f1_score\n",
    "\n",
    "res = []\n",
    "\n",
    "# Train and evaluate each pipeline\n",
    "for pipeline_name, sampling_method_name, model_name, pipeline in pipelines:\n",
    "    print(f\"Training {pipeline_name}...\")\n",
    "    # Fit the pipeline to the training data\n",
    "    pipeline.fit(X_train, y_train)\n",
    "\n",
    "    # print the distribution of labels in the training set before resampling\n",
    "    print(f\"Training label distribution before resampling: {np.bincount(y_train)}\")\n",
    "\n",
    "    # Print the distribution of labels in the training set after resampling\n",
    "    sampled_y = pipeline.named_steps['sampling'].sampled_y_\n",
    "    print(f\"Training label distribution after resampling: {np.bincount(sampled_y)}\")\n",
    "    \n",
    "    # Evaluate the pipeline on the testing data\n",
    "    y_pred = pipeline.predict(X_test)\n",
    "\n",
    "    accuracy_general = accuracy_score(y_test, y_pred)\n",
    "    recall_class0 = recall_class_0 = recall_score(y_test, y_pred, labels=[0], average=None)[0]\n",
    "    f1_class_0 = f1_score(y_test, y_pred, labels=[0], average=None)[0]  \n",
    "\n",
    "    res.append({\n",
    "        'Pipeline': pipeline_name, \n",
    "        'Sampling Method': sampling_method_name,\n",
    "        'Model': model_name,\n",
    "        'Recall_hate': recall_class_0, \n",
    "        'F1_hate': f1_class_0, \n",
    "        'Accuracy_general': accuracy_general})\n",
    "    \n",
    "    # Print classification report\n",
    "    print(f\"Evaluation results for {pipeline_name}:\")\n",
    "    print(classification_report(y_test, y_pred, target_names=['Hate Speech', 'Offensive Language', 'Neutral'])) \n",
    "\n",
    "\n",
    "    # # Draw Confusion matrix\n",
    "    # # Evaluate models by the confusion matrix\n",
    "    # cm = confusion_matrix(y_test, y_pred)\n",
    "    \n",
    "    # # Extract FP, FN from confusion matrix\n",
    "    # tn, fp, fn, tp = cm.ravel()\n",
    "    \n",
    "    # # Calculate false positives (FP) and false negatives (FN)\n",
    "    # false_positives = fp / (fp + tn)\n",
    "    # false_negatives = fn / (fn + tp)\n",
    "\n",
    "    # # Create a confusion matrix plot\n",
    "    # fig, ax = plt.subplots()\n",
    "\n",
    "    # # Plot the confusion matrix\n",
    "    # for (j, i), label in np.ndenumerate(cm):\n",
    "    #     ax.text(i, j, label, ha='center', va='center')\n",
    "\n",
    "    # ax.set_title(f'{pipeline_name}\\nConfusion Matrix\\n\\nAccuracy: {accuracy:.2f}\\nFalse Positives: {false_positives:.2f} / False Negatives: {false_negatives:.2f}')\n",
    "    # ax.imshow(cm, cmap='tab20c')\n",
    "    # ax.set_xticks([1, 0])\n",
    "    # ax.set_yticks([1, 0])\n",
    "    # ax.set_xlabel('Predict')\n",
    "    # ax.set_ylabel('True')\n",
    "    "
   ]
  },
  {
   "cell_type": "markdown",
   "metadata": {},
   "source": [
    "# Result Visualization"
   ]
  },
  {
   "cell_type": "code",
   "execution_count": 33,
   "metadata": {},
   "outputs": [],
   "source": [
    "df_res = pd.DataFrame(res)\n",
    "\n",
    "df_LR = df_res[df_res['Model'] == 'LogisticRegression']\n",
    "df_RF = df_res[df_res['Model'] == 'RandomForest']"
   ]
  },
  {
   "cell_type": "code",
   "execution_count": 34,
   "metadata": {},
   "outputs": [
    {
     "data": {
      "image/png": "[encoded data removed]",
      "text/plain": [
       "<Figure size 1500x500 with 1 Axes>"
      ]
     },
     "metadata": {},
     "output_type": "display_data"
    }
   ],
   "source": [
    "import matplotlib.pyplot as plt\n",
    "import numpy as np\n",
    "\n",
    "# Assuming 'df_LR' has columns 'Sampling Method', 'Recall', 'F1', and 'Accuracy'\n",
    "# which correspond to the sampling method and the performance metrics.\n",
    "\n",
    "# Parameters\n",
    "n_methods = len(df_LR['Sampling Method'].unique())\n",
    "n_metrics = 3  # Number of metrics (Recall, F1, Accuracy)\n",
    "bar_width = 0.2  # width of the bars\n",
    "index = np.arange(n_methods)  # array of positions for each sampling method\n",
    "\n",
    "# Spacing between the groups of bars for each metric\n",
    "group_width = bar_width * n_metrics\n",
    "\n",
    "# Starting positions for each metric's bars\n",
    "positions = {\n",
    "    'Recall_hate': index * (group_width + bar_width),  # Recall starts at 0, 3.2, 6.4, ...\n",
    "    'F1_hate': (index * (group_width + bar_width)) + bar_width,  # F1 is offset by the width of one bar\n",
    "    'Accuracy_general': (index * (group_width + bar_width)) + 2 * bar_width  # Accuracy is offset by two bar widths\n",
    "}\n",
    "\n",
    "fig, ax = plt.subplots(figsize=(15, 5))\n",
    "\n",
    "# Colors for the bars\n",
    "colors = ['pink', 'lightblue', 'khaki']  # Prettier and clearer colors\n",
    "\n",
    "# Create bars for each metric and annotate each bar with its value\n",
    "for (metric, pos), color in zip(positions.items(), colors):\n",
    "    bars = ax.bar(pos, df_LR[metric], bar_width, label=f'{metric}', color=color)\n",
    "    for bar in bars:\n",
    "        yval = bar.get_height()\n",
    "        ax.text(bar.get_x() + bar.get_width()/2, yval, f'{yval:.2f}', ha='center', va='bottom')\n",
    "\n",
    "# Add labels, title, and custom x-axis tick labels, etc.\n",
    "ax.set_xlabel('Sampling Method')\n",
    "ax.set_ylabel('Scores')\n",
    "ax.set_title('Performance Metrics by Sampling Method for Logistic Regression')\n",
    "ax.set_xticks(positions['Recall_hate'] + bar_width)  # Centers the tick marks between bars\n",
    "ax.set_xticklabels(df_LR['Sampling Method'])\n",
    "ax.legend()\n",
    "\n",
    "# Improve layout and display\n",
    "plt.tight_layout()\n",
    "plt.show()\n",
    "\n",
    "# save the image to img folder\n",
    "fig.savefig('./img/Performance Metrics by Sampling Method for Logistic Regression.png')\n"
   ]
  },
  {
   "cell_type": "code",
   "execution_count": 35,
   "metadata": {},
   "outputs": [
    {
     "data": {
      "image/png": "[encoded data removed]",
      "text/plain": [
       "<Figure size 1500x500 with 1 Axes>"
      ]
     },
     "metadata": {},
     "output_type": "display_data"
    }
   ],
   "source": [
    "import matplotlib.pyplot as plt\n",
    "import numpy as np\n",
    "\n",
    "# Assuming 'df_LR' has columns 'Sampling Method', 'Recall', 'F1', and 'Accuracy'\n",
    "# which correspond to the sampling method and the performance metrics.\n",
    "\n",
    "# Parameters\n",
    "n_methods = len(df_RF['Sampling Method'].unique())\n",
    "n_metrics = 3  # Number of metrics (Recall, F1, Accuracy)\n",
    "bar_width = 0.2  # width of the bars\n",
    "index = np.arange(n_methods)  # array of positions for each sampling method\n",
    "\n",
    "# Spacing between the groups of bars for each metric\n",
    "group_width = bar_width * n_metrics\n",
    "\n",
    "# Starting positions for each metric's bars\n",
    "positions = {\n",
    "    'Recall_hate': index * (group_width + bar_width),  # Recall starts at 0, 3.2, 6.4, ...\n",
    "    'F1_hate': (index * (group_width + bar_width)) + bar_width,  # F1 is offset by the width of one bar\n",
    "    'Accuracy_general': (index * (group_width + bar_width)) + 2 * bar_width  # Accuracy is offset by two bar widths\n",
    "}\n",
    "\n",
    "fig, ax = plt.subplots(figsize=(15, 5))\n",
    "\n",
    "# Colors for the bars\n",
    "colors = ['pink', 'lightblue', 'khaki']  # Prettier and clearer colors\n",
    "\n",
    "# Create bars for each metric and annotate each bar with its value\n",
    "for (metric, pos), color in zip(positions.items(), colors):\n",
    "    bars = ax.bar(pos, df_RF[metric], bar_width, label=f'{metric}', color=color)\n",
    "    for bar in bars:\n",
    "        yval = bar.get_height()\n",
    "        ax.text(bar.get_x() + bar.get_width()/2, yval, f'{yval:.2f}', ha='center', va='bottom')\n",
    "\n",
    "\n",
    "# Add labels, title, and custom x-axis tick labels, etc.\n",
    "ax.set_xlabel('Sampling Method')\n",
    "ax.set_ylabel('Scores')\n",
    "ax.set_title('Performance Metrics by Sampling Method for Random Forest')\n",
    "ax.set_xticks(positions['Recall_hate'] + bar_width)  # Centers the tick marks between bars\n",
    "ax.set_xticklabels(df_RF['Sampling Method'])\n",
    "ax.legend()\n",
    "\n",
    "# Improve layout and display\n",
    "plt.tight_layout()\n",
    "plt.show()\n",
    "\n",
    "# save the image to img folder\n",
    "fig.savefig('./img/Performance Metrics by Sampling Method for Random Forest.png')\n"
   ]
  },
  {
   "cell_type": "markdown",
   "metadata": {},
   "source": []
  }
 ],
 "metadata": {
  "kernelspec": {
   "display_name": "Python 3",
   "language": "python",
   "name": "python3"
  },
  "language_info": {
   "codemirror_mode": {
    "name": "ipython",
    "version": 3
   },
   "file_extension": ".py",
   "mimetype": "text/x-python",
   "name": "python",
   "nbconvert_exporter": "python",
   "pygments_lexer": "ipython3",
   "version": "3.11.5"
  }
 },
 "nbformat": 4,
 "nbformat_minor": 2
}
