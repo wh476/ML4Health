{
 "cells": [
  {
   "cell_type": "code",
   "execution_count": 1,
   "metadata": {},
   "outputs": [],
   "source": [
    "import pandas as pd\n",
    "import numpy as np"
   ]
  },
  {
   "cell_type": "markdown",
   "metadata": {},
   "source": [
    "### Load the data"
   ]
  },
  {
   "cell_type": "code",
   "execution_count": 2,
   "metadata": {},
   "outputs": [
    {
     "name": "stdout",
     "output_type": "stream",
     "text": [
      "(20620, 2)\n",
      "   label                                              tweet\n",
      "0      1   rt  boy dats coldtyga dwn bad for cuffin dat ...\n",
      "1      1   rt  dawg rt  you ever fuck a bitch and she st...\n",
      "2      1          rt ganderson based she look like a tranny\n",
      "3      1   rt  the shit you hear about me might be true ...\n",
      "4      1  madisonx the shit just blows meclaim you so fa...\n",
      "5      1  brighterdays i can not just sit up and hate on...\n",
      "6      1  8220 cause im tired of you big bitches coming ...\n",
      "7      1   amp you might not get ya bitch back amp thats...\n",
      "8      1               hobbies include fighting mariambitch\n",
      "9      1   keeks is a bitch she curves everyone  lol i w...\n",
      "              label\n",
      "count  20620.000000\n",
      "mean       0.930650\n",
      "std        0.254055\n",
      "min        0.000000\n",
      "25%        1.000000\n",
      "50%        1.000000\n",
      "75%        1.000000\n",
      "max        1.000000\n"
     ]
    }
   ],
   "source": [
    "dataset = pd.read_csv('./dataset/cleaned_dataset.csv')\n",
    "print(dataset.shape)\n",
    "print(dataset.head(10))\n",
    "print(dataset.describe())"
   ]
  },
  {
   "cell_type": "code",
   "execution_count": 3,
   "metadata": {},
   "outputs": [
    {
     "name": "stdout",
     "output_type": "stream",
     "text": [
      "Training set shape:  (15465,) \n",
      "Label distribution: \n",
      " label\n",
      "1    14358\n",
      "0     1107\n",
      "Name: count, dtype: int64\n",
      "\n",
      "Testing set shape:  (5155,) \n",
      "Label distribution: \n",
      " label\n",
      "1    4832\n",
      "0     323\n",
      "Name: count, dtype: int64\n"
     ]
    }
   ],
   "source": [
    "from sklearn.model_selection import train_test_split\n",
    "\n",
    "X = dataset['tweet']  # Input features\n",
    "y = dataset['label']  # Target variable\n",
    "\n",
    "X_train, X_test, y_train, y_test = train_test_split(X, y, test_size=0.25, random_state=42)\n",
    "\n",
    "print(\"Training set shape: \", X_train.shape, \"\\nLabel distribution: \\n\", y_train.value_counts())\n",
    "print(\"\\nTesting set shape: \", X_test.shape, \"\\nLabel distribution: \\n\", y_test.value_counts())"
   ]
  },
  {
   "cell_type": "markdown",
   "metadata": {},
   "source": [
    "### Feature engineering and imbalanced data handling"
   ]
  },
  {
   "cell_type": "code",
   "execution_count": 4,
   "metadata": {},
   "outputs": [
    {
     "name": "stdout",
     "output_type": "stream",
     "text": [
      "After undersampling:\n",
      "\n",
      "Training set shape:  (13518, 18863)\n",
      "Label distribution:\n",
      " label\n",
      "1    12411\n",
      "0     1107\n",
      "Name: count, dtype: int64\n"
     ]
    }
   ],
   "source": [
    "from imblearn.under_sampling import EditedNearestNeighbours\n",
    "from sklearn.feature_extraction.text import TfidfVectorizer\n",
    "\n",
    "# Apply TF-IDF vectorization to convert text data into numerical features\n",
    "tfidf_vectorizer = TfidfVectorizer()\n",
    "X_train_tfidf = tfidf_vectorizer.fit_transform(X_train)\n",
    "\n",
    "# Apply informed undersampling only to the training set\n",
    "enn = EditedNearestNeighbours()\n",
    "X_train_resampled, y_train_resampled = enn.fit_resample(X_train_tfidf, y_train)\n",
    "\n",
    "print(\"After undersampling:\\n\")\n",
    "print(\"Training set shape: \", X_train_resampled.shape)\n",
    "print(\"Label distribution:\\n\", pd.Series(y_train_resampled).value_counts())"
   ]
  },
  {
   "cell_type": "markdown",
   "metadata": {},
   "source": [
    "### Model Training"
   ]
  },
  {
   "cell_type": "code",
   "execution_count": 5,
   "metadata": {},
   "outputs": [
    {
     "name": "stdout",
     "output_type": "stream",
     "text": [
      "Logistic Regression Classification Report:\n",
      "              precision    recall  f1-score   support\n",
      "\n",
      "           0       0.44      0.40      0.42       323\n",
      "           1       0.96      0.97      0.96      4832\n",
      "\n",
      "    accuracy                           0.93      5155\n",
      "   macro avg       0.70      0.68      0.69      5155\n",
      "weighted avg       0.93      0.93      0.93      5155\n",
      "\n",
      "\n",
      "Random Forest Classification Report:\n",
      "              precision    recall  f1-score   support\n",
      "\n",
      "           0       0.45      0.45      0.45       323\n",
      "           1       0.96      0.96      0.96      4832\n",
      "\n",
      "    accuracy                           0.93      5155\n",
      "   macro avg       0.71      0.70      0.71      5155\n",
      "weighted avg       0.93      0.93      0.93      5155\n",
      "\n"
     ]
    }
   ],
   "source": [
    "from sklearn.linear_model import LogisticRegression\n",
    "from sklearn.ensemble import RandomForestClassifier\n",
    "from sklearn.metrics import classification_report\n",
    "\n",
    "# Train Logistic Regression model with L1 regularization\n",
    "logistic_model = LogisticRegression(penalty='l1', solver='liblinear', max_iter=1000)  # Adjust max_iter as needed\n",
    "logistic_model.fit(X_train_resampled, y_train_resampled)\n",
    "\n",
    "# Train Random Forest model\n",
    "random_forest_model = RandomForestClassifier(n_estimators=100, random_state=42)  # You can adjust n_estimators as needed\n",
    "random_forest_model.fit(X_train_resampled, y_train_resampled)\n",
    "\n",
    "# Make predictions on the test set\n",
    "X_test_tfidf = tfidf_vectorizer.transform(X_test)\n",
    "y_pred_logistic = logistic_model.predict(X_test_tfidf)\n",
    "y_pred_rf = random_forest_model.predict(X_test_tfidf)\n",
    "\n",
    "# Evaluate the models\n",
    "print(\"Logistic Regression Classification Report:\")\n",
    "print(classification_report(y_test, y_pred_logistic))\n",
    "\n",
    "print(\"\\nRandom Forest Classification Report:\")\n",
    "print(classification_report(y_test, y_pred_rf))"
   ]
  }
 ],
 "metadata": {
  "kernelspec": {
   "display_name": "Python 3",
   "language": "python",
   "name": "python3"
  },
  "language_info": {
   "codemirror_mode": {
    "name": "ipython",
    "version": 3
   },
   "file_extension": ".py",
   "mimetype": "text/x-python",
   "name": "python",
   "nbconvert_exporter": "python",
   "pygments_lexer": "ipython3",
   "version": "3.10.11"
  }
 },
 "nbformat": 4,
 "nbformat_minor": 2
}
